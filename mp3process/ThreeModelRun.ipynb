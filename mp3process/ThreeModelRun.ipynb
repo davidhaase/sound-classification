{
 "cells": [
  {
   "cell_type": "code",
   "execution_count": 18,
   "metadata": {},
   "outputs": [],
   "source": [
    "from pipeline import *\n",
    "from model_generator import get_3_log_model\n",
    "\n",
    "\n",
    "\n",
    "paths = get_all_paths(\"/Users/noah/Flatiron/NN/AudioRecognition/Pickles/\")\n",
    "\n",
    "data_list,labels_list = list_of_pickle_paths_to_data_list_and_labels(paths)\n",
    "data,labels = concate_multiprocess_outputs(data_list,labels_list)\n"
   ]
  },
  {
   "cell_type": "code",
   "execution_count": 20,
   "metadata": {},
   "outputs": [],
   "source": [
    "from multifileprocess import data_label_write\n",
    "data_label_write(data,labels,\"./saved_all_pkl\")"
   ]
  },
  {
   "cell_type": "code",
   "execution_count": 28,
   "metadata": {},
   "outputs": [
    {
     "name": "stdout",
     "output_type": "stream",
     "text": [
      "dict_keys(['log_S', 'log_Sh', 'log_Sp', 'C', 'mfcc', 'delta_mfcc', 'delta2_mfcc'])\n"
     ]
    }
   ],
   "source": [
    "print(data.keys())"
   ]
  },
  {
   "cell_type": "code",
   "execution_count": 2,
   "metadata": {},
   "outputs": [
    {
     "data": {
      "text/plain": [
       "(1000, 128, 433)"
      ]
     },
     "execution_count": 2,
     "metadata": {},
     "output_type": "execute_result"
    }
   ],
   "source": [
    "data[\"log_S\"].shape"
   ]
  },
  {
   "cell_type": "code",
   "execution_count": 3,
   "metadata": {},
   "outputs": [],
   "source": [
    "res = data[\"log_S\"].reshape(tuple(list(data[\"log_S\"].shape)+[1]))"
   ]
  },
  {
   "cell_type": "code",
   "execution_count": 4,
   "metadata": {},
   "outputs": [
    {
     "data": {
      "text/plain": [
       "array([-73.27483909])"
      ]
     },
     "execution_count": 4,
     "metadata": {},
     "output_type": "execute_result"
    }
   ],
   "source": [
    "res[330][3][5]"
   ]
  },
  {
   "cell_type": "code",
   "execution_count": 5,
   "metadata": {},
   "outputs": [
    {
     "data": {
      "text/plain": [
       "-73.27483908553316"
      ]
     },
     "execution_count": 5,
     "metadata": {},
     "output_type": "execute_result"
    }
   ],
   "source": [
    "data[\"log_S\"][330][3][5]"
   ]
  },
  {
   "cell_type": "code",
   "execution_count": 6,
   "metadata": {},
   "outputs": [],
   "source": [
    "res = data[\"log_S\"].reshape(55424000)"
   ]
  },
  {
   "cell_type": "code",
   "execution_count": 12,
   "metadata": {},
   "outputs": [
    {
     "data": {
      "text/plain": [
       "{False}"
      ]
     },
     "execution_count": 12,
     "metadata": {},
     "output_type": "execute_result"
    }
   ],
   "source": [
    "set([resi is None for resi in res])"
   ]
  },
  {
   "cell_type": "code",
   "execution_count": 25,
   "metadata": {},
   "outputs": [],
   "source": [
    "model = get_3_log_model()"
   ]
  },
  {
   "cell_type": "code",
   "execution_count": null,
   "metadata": {},
   "outputs": [],
   "source": []
  },
  {
   "cell_type": "code",
   "execution_count": 2,
   "metadata": {},
   "outputs": [],
   "source": [
    "keys=[\"log_S\",\"log_Sh\",\"log_Sp\"]"
   ]
  },
  {
   "cell_type": "code",
   "execution_count": 16,
   "metadata": {},
   "outputs": [],
   "source": [
    "labels[0] = \"10\"\n",
    "labels[1] = '101'\n",
    "labels[2] = '11'\n",
    "labels[3] = '12'\n",
    "labels[4] = '15'\n"
   ]
  },
  {
   "cell_type": "code",
   "execution_count": 26,
   "metadata": {},
   "outputs": [
    {
     "name": "stdout",
     "output_type": "stream",
     "text": [
      "Epoch 1/1\n",
      "5200/5200 [==============================] - 9900s 2s/step - loss: 12.5294 - acc: 0.2196\n"
     ]
    },
    {
     "data": {
      "text/plain": [
       "<keras.callbacks.History at 0x1c39353048>"
      ]
     },
     "execution_count": 26,
     "metadata": {},
     "output_type": "execute_result"
    }
   ],
   "source": [
    "\n",
    "fit_dict(data,labels,model,keys,epochs=1)"
   ]
  },
  {
   "cell_type": "code",
   "execution_count": 27,
   "metadata": {},
   "outputs": [],
   "source": [
    "model.save(\"./full_log3_model_save\")"
   ]
  },
  {
   "cell_type": "code",
   "execution_count": 13,
   "metadata": {},
   "outputs": [
    {
     "data": {
      "text/plain": [
       "(1000, 128, 433)"
      ]
     },
     "execution_count": 13,
     "metadata": {},
     "output_type": "execute_result"
    }
   ],
   "source": [
    "data[\"log_S\"].shape"
   ]
  },
  {
   "cell_type": "code",
   "execution_count": 8,
   "metadata": {},
   "outputs": [],
   "source": [
    "input_vals = [reshape_for_model(data[key]) for key in keys]\n",
    "labs = to_categorical(LabelEncoder().fit_transform(labels))"
   ]
  },
  {
   "cell_type": "code",
   "execution_count": 4,
   "metadata": {},
   "outputs": [
    {
     "data": {
      "text/plain": [
       "(1000, 128, 433, 1)"
      ]
     },
     "execution_count": 4,
     "metadata": {},
     "output_type": "execute_result"
    }
   ],
   "source": [
    "input_vals[0].shape"
   ]
  },
  {
   "cell_type": "code",
   "execution_count": 9,
   "metadata": {},
   "outputs": [
    {
     "data": {
      "text/plain": [
       "(1000, 1)"
      ]
     },
     "execution_count": 9,
     "metadata": {},
     "output_type": "execute_result"
    }
   ],
   "source": [
    "labs.shape"
   ]
  },
  {
   "cell_type": "code",
   "execution_count": 14,
   "metadata": {},
   "outputs": [
    {
     "data": {
      "text/plain": [
       "{1.0, 10.0}"
      ]
     },
     "execution_count": 14,
     "metadata": {},
     "output_type": "execute_result"
    }
   ],
   "source": [
    "set([l[0] for l in labs])"
   ]
  },
  {
   "cell_type": "code",
   "execution_count": 19,
   "metadata": {},
   "outputs": [],
   "source": []
  },
  {
   "cell_type": "code",
   "execution_count": 24,
   "metadata": {},
   "outputs": [],
   "source": [
    "from keras import Model,Input\n",
    "from keras.layers import Conv2D,Dense,Flatten,MaxPooling2D,concatenate\n",
    "from keras.regularizers import l2\n",
    "from keras.optimizers import Adam\n",
    "\n",
    "\n",
    "def log_attach(input_layer):\n",
    "    x = Conv2D(128,kernel_size=4,padding=\"valid\",data_format=\"channels_last\",activation=\"relu\",use_bias=True)(input_layer)\n",
    "    x = MaxPooling2D(padding=\"valid\",pool_size=2)(x)\n",
    "    x = Conv2D(64,kernel_size=4,padding=\"valid\",data_format=\"channels_last\",activation=\"relu\",use_bias=True)(x)\n",
    "    x = MaxPooling2D(padding=\"valid\",pool_size=2)(x)\n",
    "    x = Conv2D(5,kernel_size = 3,padding = \"valid\",data_format = \"channels_last\",activation = \"relu\",use_bias=True)(x)\n",
    "    x = MaxPooling2D(padding=\"valid\",pool_size=2)(x)\n",
    "    x = Flatten()(x)\n",
    "    outputs = Dense(100,activation=\"relu\",use_bias=True)(x)\n",
    "    return Model(inputs=input_layer,outputs=outputs)\n",
    "\n",
    "def get_3_log_model():\n",
    "    inputs = [Input((128,433,1)) for i in range(3)]\n",
    "    mods = [log_attach(inputs[i]) for i in range(3)]\n",
    "\n",
    "    com = concatenate([mod.output for mod in mods])\n",
    "    x = Dense(100,activation=\"relu\",use_bias=True)(com)\n",
    "    x = Dense(50,activation=\"relu\",use_bias=True)(x)\n",
    "    x = Dense(5,activation=\"softmax\",use_bias=True)(x)\n",
    "    mod = Model(inputs = inputs,outputs = x)\n",
    "    opt = Adam(lr=.01)\n",
    "    mod.compile(optimizer=opt,loss='categorical_crossentropy',metrics=[\"accuracy\"])\n",
    "    return mod\n"
   ]
  },
  {
   "cell_type": "code",
   "execution_count": null,
   "metadata": {},
   "outputs": [],
   "source": []
  }
 ],
 "metadata": {
  "kernelspec": {
   "display_name": "learn-env",
   "language": "python",
   "name": "learn-env"
  },
  "language_info": {
   "codemirror_mode": {
    "name": "ipython",
    "version": 3
   },
   "file_extension": ".py",
   "mimetype": "text/x-python",
   "name": "python",
   "nbconvert_exporter": "python",
   "pygments_lexer": "ipython3",
   "version": "3.6.8"
  }
 },
 "nbformat": 4,
 "nbformat_minor": 2
}
