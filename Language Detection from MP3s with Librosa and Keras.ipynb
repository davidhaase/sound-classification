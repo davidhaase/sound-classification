{
 "cells": [
  {
   "cell_type": "markdown",
   "metadata": {},
   "source": [
    "# Language Detection in MP3s using Librosa and Keras\n",
    "* Noah Sragow\n",
    "* David Haase\n",
    "\n",
    "## Import Libraries"
   ]
  },
  {
   "cell_type": "code",
   "execution_count": 5,
   "metadata": {},
   "outputs": [],
   "source": [
    "# !pip install librosa\n",
    "# !pip install pydub"
   ]
  },
  {
   "cell_type": "code",
   "execution_count": 6,
   "metadata": {},
   "outputs": [
    {
     "name": "stdout",
     "output_type": "stream",
     "text": [
      "2531 files already found in /Volumes/LaCie Rose Gold 2TB/Datasets/Audio/20_Seconds/Train_20/\n",
      "Not rebuilding segments. Pass rebuild=True to force rebuild\n"
     ]
    }
   ],
   "source": [
    "import pandas as pd\n",
    "import numpy as np\n",
    "\n",
    "import librosa\n",
    "\n",
    "from audioutils import AudioSplitter, greek, arabic, turkish, persian, russian\n",
    "\n",
    "source_languages = [arabic, greek, persian, russian, turkish]\n",
    "ASML = AudioSplitter(source_languages)\n",
    "\n",
    "target_dir = '/Volumes/LaCie Rose Gold 2TB/Datasets/Audio/'\n",
    "seconds = 20\n",
    "train_dir, test_dir = ASML.split(write_dir=target_dir, duration_s=seconds, test_split=.1)"
   ]
  },
  {
   "cell_type": "markdown",
   "metadata": {},
   "source": [
    "## Load Data\n",
    "* Audio files split into 20-second extracts\n",
    "* 5,256 extracts created"
   ]
  },
  {
   "cell_type": "code",
   "execution_count": 2,
   "metadata": {},
   "outputs": [],
   "source": [
    "def extract_linear_features(file_path):\n",
    "    num_features = 40\n",
    "    res_type = 'kaiser_fast'\n",
    "\n",
    "    # handle exception to check if there isn't a file which is corrupted\n",
    "    try:\n",
    "      # here kaiser_fast is a technique used for faster extraction\n",
    "        X, sample_rate = librosa.load(file_path, res_type=res_type)\n",
    "      # we extract mfcc feature from data\n",
    "        mfccs = np.mean(librosa.feature.mfcc(y=X, sr=sample_rate, n_mfcc=num_features).T,axis=0)\n",
    "    except Exception as e:\n",
    "        print(e, \"Error encountered while parsing file: \", file_path)\n",
    "        return None\n",
    "\n",
    "    return mfccs"
   ]
  },
  {
   "cell_type": "code",
   "execution_count": 3,
   "metadata": {},
   "outputs": [
    {
     "name": "stdout",
     "output_type": "stream",
     "text": [
      ".DS_Store: invalid audio filename; skipping\n"
     ]
    }
   ],
   "source": [
    "write_dir = '/Volumes/LaCie Rose Gold 2TB/Datasets/Features/'\n",
    "test_dir  = '/Volumes/LaCie Rose Gold 2TB/Datasets/Audio/20_Seconds/My_Test/'\n",
    "kwargs = {'train_dir':train_dir, 'test_dir':test_dir, 'write_dir':write_dir, 'func':extract_linear_features}\n",
    "\n",
    "ASML.extract_features(**kwargs)"
   ]
  },
  {
   "cell_type": "markdown",
   "metadata": {},
   "source": [
    "### Predict Features"
   ]
  },
  {
   "cell_type": "code",
   "execution_count": 4,
   "metadata": {},
   "outputs": [
    {
     "data": {
      "text/html": [
       "<div>\n",
       "<style scoped>\n",
       "    .dataframe tbody tr th:only-of-type {\n",
       "        vertical-align: middle;\n",
       "    }\n",
       "\n",
       "    .dataframe tbody tr th {\n",
       "        vertical-align: top;\n",
       "    }\n",
       "\n",
       "    .dataframe thead th {\n",
       "        text-align: right;\n",
       "    }\n",
       "</style>\n",
       "<table border=\"1\" class=\"dataframe\">\n",
       "  <thead>\n",
       "    <tr style=\"text-align: right;\">\n",
       "      <th></th>\n",
       "      <th>File_ID</th>\n",
       "      <th>Filename</th>\n",
       "      <th>Lang_ID</th>\n",
       "      <th>Language</th>\n",
       "      <th>Path</th>\n",
       "      <th>Features</th>\n",
       "    </tr>\n",
       "  </thead>\n",
       "  <tbody>\n",
       "    <tr>\n",
       "      <th>1</th>\n",
       "      <td>001</td>\n",
       "      <td>ar001.m4a</td>\n",
       "      <td>ar</td>\n",
       "      <td>Arabic</td>\n",
       "      <td>/Volumes/LaCie Rose Gold 2TB/Datasets/Audio/20...</td>\n",
       "      <td>[-250.00165363974557, 132.40688140842465, -6.8...</td>\n",
       "    </tr>\n",
       "    <tr>\n",
       "      <th>2</th>\n",
       "      <td>003</td>\n",
       "      <td>fa003.m4a</td>\n",
       "      <td>fa</td>\n",
       "      <td>Persian</td>\n",
       "      <td>/Volumes/LaCie Rose Gold 2TB/Datasets/Audio/20...</td>\n",
       "      <td>[-240.55078909718804, 126.96836290678822, 1.79...</td>\n",
       "    </tr>\n",
       "    <tr>\n",
       "      <th>3</th>\n",
       "      <td>004</td>\n",
       "      <td>gk004.m4a</td>\n",
       "      <td>gk</td>\n",
       "      <td>Greek</td>\n",
       "      <td>/Volumes/LaCie Rose Gold 2TB/Datasets/Audio/20...</td>\n",
       "      <td>[-264.7438283356297, 107.12165049891314, 6.593...</td>\n",
       "    </tr>\n",
       "    <tr>\n",
       "      <th>4</th>\n",
       "      <td>005</td>\n",
       "      <td>ru005.m4a</td>\n",
       "      <td>ru</td>\n",
       "      <td>Russian</td>\n",
       "      <td>/Volumes/LaCie Rose Gold 2TB/Datasets/Audio/20...</td>\n",
       "      <td>[-257.1900915041211, 97.72281232550118, 3.7058...</td>\n",
       "    </tr>\n",
       "    <tr>\n",
       "      <th>5</th>\n",
       "      <td>002</td>\n",
       "      <td>tr002.m4a</td>\n",
       "      <td>tr</td>\n",
       "      <td>Turkish</td>\n",
       "      <td>/Volumes/LaCie Rose Gold 2TB/Datasets/Audio/20...</td>\n",
       "      <td>[-258.4246814083206, 107.15337234070702, 12.48...</td>\n",
       "    </tr>\n",
       "  </tbody>\n",
       "</table>\n",
       "</div>"
      ],
      "text/plain": [
       "  File_ID   Filename Lang_ID Language  \\\n",
       "1     001  ar001.m4a      ar   Arabic   \n",
       "2     003  fa003.m4a      fa  Persian   \n",
       "3     004  gk004.m4a      gk    Greek   \n",
       "4     005  ru005.m4a      ru  Russian   \n",
       "5     002  tr002.m4a      tr  Turkish   \n",
       "\n",
       "                                                Path  \\\n",
       "1  /Volumes/LaCie Rose Gold 2TB/Datasets/Audio/20...   \n",
       "2  /Volumes/LaCie Rose Gold 2TB/Datasets/Audio/20...   \n",
       "3  /Volumes/LaCie Rose Gold 2TB/Datasets/Audio/20...   \n",
       "4  /Volumes/LaCie Rose Gold 2TB/Datasets/Audio/20...   \n",
       "5  /Volumes/LaCie Rose Gold 2TB/Datasets/Audio/20...   \n",
       "\n",
       "                                            Features  \n",
       "1  [-250.00165363974557, 132.40688140842465, -6.8...  \n",
       "2  [-240.55078909718804, 126.96836290678822, 1.79...  \n",
       "3  [-264.7438283356297, 107.12165049891314, 6.593...  \n",
       "4  [-257.1900915041211, 97.72281232550118, 3.7058...  \n",
       "5  [-258.4246814083206, 107.15337234070702, 12.48...  "
      ]
     },
     "execution_count": 4,
     "metadata": {},
     "output_type": "execute_result"
    }
   ],
   "source": [
    "test_file = '/Volumes/LaCie Rose Gold 2TB/Datasets/Features/feat_006/Test_Feature_Pickles/extracted.pkl'\n",
    "df = pd.read_pickle(test_file)\n",
    "df.head()"
   ]
  },
  {
   "cell_type": "code",
   "execution_count": null,
   "metadata": {},
   "outputs": [],
   "source": []
  }
 ],
 "metadata": {
  "kernelspec": {
   "display_name": "Python 3",
   "language": "python",
   "name": "python3"
  },
  "language_info": {
   "codemirror_mode": {
    "name": "ipython",
    "version": 3
   },
   "file_extension": ".py",
   "mimetype": "text/x-python",
   "name": "python",
   "nbconvert_exporter": "python",
   "pygments_lexer": "ipython3",
   "version": "3.7.3"
  }
 },
 "nbformat": 4,
 "nbformat_minor": 2
}
